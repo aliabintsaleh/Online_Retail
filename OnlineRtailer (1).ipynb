{
 "cells": [
  {
   "cell_type": "code",
   "execution_count": 1,
   "id": "bf381763-a1b6-4147-9a75-6821f0ade607",
   "metadata": {},
   "outputs": [
    {
     "data": {
      "text/html": [
       "<div>\n",
       "<style scoped>\n",
       "    .dataframe tbody tr th:only-of-type {\n",
       "        vertical-align: middle;\n",
       "    }\n",
       "\n",
       "    .dataframe tbody tr th {\n",
       "        vertical-align: top;\n",
       "    }\n",
       "\n",
       "    .dataframe thead th {\n",
       "        text-align: right;\n",
       "    }\n",
       "</style>\n",
       "<table border=\"1\" class=\"dataframe\">\n",
       "  <thead>\n",
       "    <tr style=\"text-align: right;\">\n",
       "      <th></th>\n",
       "      <th>InvoiceNo</th>\n",
       "      <th>StockCode</th>\n",
       "      <th>Description</th>\n",
       "      <th>Quantity</th>\n",
       "      <th>InvoiceDate</th>\n",
       "      <th>UnitPrice</th>\n",
       "      <th>CustomerID</th>\n",
       "      <th>Country</th>\n",
       "    </tr>\n",
       "  </thead>\n",
       "  <tbody>\n",
       "    <tr>\n",
       "      <th>0</th>\n",
       "      <td>536365</td>\n",
       "      <td>85123A</td>\n",
       "      <td>WHITE HANGING HEART T-LIGHT HOLDER</td>\n",
       "      <td>6</td>\n",
       "      <td>2010-12-01 08:26:00</td>\n",
       "      <td>2.55</td>\n",
       "      <td>17850.0</td>\n",
       "      <td>United Kingdom</td>\n",
       "    </tr>\n",
       "    <tr>\n",
       "      <th>1</th>\n",
       "      <td>536365</td>\n",
       "      <td>71053</td>\n",
       "      <td>WHITE METAL LANTERN</td>\n",
       "      <td>6</td>\n",
       "      <td>2010-12-01 08:26:00</td>\n",
       "      <td>3.39</td>\n",
       "      <td>17850.0</td>\n",
       "      <td>United Kingdom</td>\n",
       "    </tr>\n",
       "    <tr>\n",
       "      <th>2</th>\n",
       "      <td>536365</td>\n",
       "      <td>84406B</td>\n",
       "      <td>CREAM CUPID HEARTS COAT HANGER</td>\n",
       "      <td>8</td>\n",
       "      <td>2010-12-01 08:26:00</td>\n",
       "      <td>2.75</td>\n",
       "      <td>17850.0</td>\n",
       "      <td>United Kingdom</td>\n",
       "    </tr>\n",
       "    <tr>\n",
       "      <th>3</th>\n",
       "      <td>536365</td>\n",
       "      <td>84029G</td>\n",
       "      <td>KNITTED UNION FLAG HOT WATER BOTTLE</td>\n",
       "      <td>6</td>\n",
       "      <td>2010-12-01 08:26:00</td>\n",
       "      <td>3.39</td>\n",
       "      <td>17850.0</td>\n",
       "      <td>United Kingdom</td>\n",
       "    </tr>\n",
       "    <tr>\n",
       "      <th>4</th>\n",
       "      <td>536365</td>\n",
       "      <td>84029E</td>\n",
       "      <td>RED WOOLLY HOTTIE WHITE HEART.</td>\n",
       "      <td>6</td>\n",
       "      <td>2010-12-01 08:26:00</td>\n",
       "      <td>3.39</td>\n",
       "      <td>17850.0</td>\n",
       "      <td>United Kingdom</td>\n",
       "    </tr>\n",
       "  </tbody>\n",
       "</table>\n",
       "</div>"
      ],
      "text/plain": [
       "  InvoiceNo StockCode                          Description  Quantity  \\\n",
       "0    536365    85123A   WHITE HANGING HEART T-LIGHT HOLDER         6   \n",
       "1    536365     71053                  WHITE METAL LANTERN         6   \n",
       "2    536365    84406B       CREAM CUPID HEARTS COAT HANGER         8   \n",
       "3    536365    84029G  KNITTED UNION FLAG HOT WATER BOTTLE         6   \n",
       "4    536365    84029E       RED WOOLLY HOTTIE WHITE HEART.         6   \n",
       "\n",
       "          InvoiceDate  UnitPrice  CustomerID         Country  \n",
       "0 2010-12-01 08:26:00       2.55     17850.0  United Kingdom  \n",
       "1 2010-12-01 08:26:00       3.39     17850.0  United Kingdom  \n",
       "2 2010-12-01 08:26:00       2.75     17850.0  United Kingdom  \n",
       "3 2010-12-01 08:26:00       3.39     17850.0  United Kingdom  \n",
       "4 2010-12-01 08:26:00       3.39     17850.0  United Kingdom  "
      ]
     },
     "execution_count": 1,
     "metadata": {},
     "output_type": "execute_result"
    }
   ],
   "source": [
    "import pandas as pd\n",
    "import math\n",
    "import numpy as np\n",
    "import matplotlib.pyplot as plt\n",
    "import seaborn as sns\n",
    "%matplotlib inline\n",
    "\n",
    "from datetime import datetime, date\n",
    "plt.style.use('ggplot')\n",
    "#load the dataset \n",
    "RE_data= pd.read_excel(\"C:\\\\Users\\\\ASUS\\\\Downloads\\\\archive (3)\\\\Online Retail.xlsx\")\n",
    "#fetching the 5 frist records \n",
    "RE_data.head(5)\n"
   ]
  },
  {
   "cell_type": "code",
   "execution_count": 2,
   "id": "b2ee62a4-1a79-4648-9b6f-38f5aa51ce1f",
   "metadata": {},
   "outputs": [
    {
     "name": "stdout",
     "output_type": "stream",
     "text": [
      "<class 'pandas.core.frame.DataFrame'>\n",
      "RangeIndex: 541909 entries, 0 to 541908\n",
      "Data columns (total 8 columns):\n",
      " #   Column       Non-Null Count   Dtype         \n",
      "---  ------       --------------   -----         \n",
      " 0   InvoiceNo    541909 non-null  object        \n",
      " 1   StockCode    541909 non-null  object        \n",
      " 2   Description  540455 non-null  object        \n",
      " 3   Quantity     541909 non-null  int64         \n",
      " 4   InvoiceDate  541909 non-null  datetime64[ns]\n",
      " 5   UnitPrice    541909 non-null  float64       \n",
      " 6   CustomerID   406829 non-null  float64       \n",
      " 7   Country      541909 non-null  object        \n",
      "dtypes: datetime64[ns](1), float64(2), int64(1), object(4)\n",
      "memory usage: 33.1+ MB\n"
     ]
    }
   ],
   "source": [
    "RE_data.info()"
   ]
  },
  {
   "cell_type": "code",
   "execution_count": 3,
   "id": "9cb54aeb-0d07-437a-8b79-50fcad914cdd",
   "metadata": {},
   "outputs": [
    {
     "name": "stdout",
     "output_type": "stream",
     "text": [
      "The number of  the rows in the dataset :541909 \n",
      "the number of the columns in the dataset : 8\n"
     ]
    }
   ],
   "source": [
    "print(\"The number of  the rows in the dataset :{} \".format(RE_data.shape[0]))\n",
    "print(\"the number of the columns in the dataset : {}\".format(RE_data.shape[1]))"
   ]
  },
  {
   "cell_type": "code",
   "execution_count": 4,
   "id": "10655ed3-703a-4263-8e78-367a5f975891",
   "metadata": {},
   "outputs": [
    {
     "data": {
      "text/plain": [
       "InvoiceNo           0\n",
       "StockCode           0\n",
       "Description      1454\n",
       "Quantity            0\n",
       "InvoiceDate         0\n",
       "UnitPrice           0\n",
       "CustomerID     135080\n",
       "Country             0\n",
       "dtype: int64"
      ]
     },
     "execution_count": 4,
     "metadata": {},
     "output_type": "execute_result"
    }
   ],
   "source": [
    "# Total number of missing values\n",
    "RE_data.isnull().sum()\n"
   ]
  },
  {
   "cell_type": "code",
   "execution_count": 5,
   "id": "45acf747-080c-463a-ab80-9601ad72ed6b",
   "metadata": {
    "editable": true,
    "slideshow": {
     "slide_type": ""
    },
    "tags": []
   },
   "outputs": [
    {
     "data": {
      "text/plain": [
       "InvoiceNo       0.000000\n",
       "StockCode       0.000000\n",
       "Description     0.268311\n",
       "Quantity        0.000000\n",
       "InvoiceDate     0.000000\n",
       "UnitPrice       0.000000\n",
       "CustomerID     24.926694\n",
       "Country         0.000000\n",
       "dtype: float64"
      ]
     },
     "execution_count": 5,
     "metadata": {},
     "output_type": "execute_result"
    }
   ],
   "source": [
    "#percentage of missing values\n",
    "RE_data.isnull().mean()*100"
   ]
  },
  {
   "cell_type": "code",
   "execution_count": 6,
   "id": "e0f181d5-d5e1-4dcf-a4fe-f3f61b94006b",
   "metadata": {},
   "outputs": [
    {
     "data": {
      "text/plain": [
       "count    541909.000000\n",
       "mean          9.552250\n",
       "std         218.081158\n",
       "min      -80995.000000\n",
       "25%           1.000000\n",
       "50%           3.000000\n",
       "75%          10.000000\n",
       "max       80995.000000\n",
       "Name: Quantity, dtype: float64"
      ]
     },
     "execution_count": 6,
     "metadata": {},
     "output_type": "execute_result"
    }
   ],
   "source": [
    "#checking if there is oan outlier\n",
    "RE_data['Quantity'].describe()"
   ]
  },
  {
   "cell_type": "code",
   "execution_count": 7,
   "id": "4c27aba2-a917-46f9-b349-761a02e76d6e",
   "metadata": {},
   "outputs": [],
   "source": [
    "# scince the percentage is less than 5% dropping the null values in Description records \n",
    "RE_data.dropna(subset=['Description'], inplace=True)\n"
   ]
  },
  {
   "cell_type": "code",
   "execution_count": 8,
   "id": "2a4cf27c-9cc8-4cbf-a897-356a906d33b8",
   "metadata": {},
   "outputs": [],
   "source": [
    "#dropping the records with outlier values(>100)\n",
    "Qua_index_drop = RE_data[RE_data['Quantity']>100].index\n",
    "\n",
    "RE_data.drop(index=Qua_index_drop, inplace=True , axis=0)"
   ]
  },
  {
   "cell_type": "code",
   "execution_count": 9,
   "id": "0171f960-1b7c-46c1-8198-44d396f28557",
   "metadata": {},
   "outputs": [],
   "source": [
    "#dropping the records with outlier values(<100)\n",
    "Qua_index_drop = RE_data[RE_data['Quantity']<0].index\n",
    "RE_data.drop(index=Qua_index_drop, inplace=True , axis=0)"
   ]
  },
  {
   "cell_type": "code",
   "execution_count": 10,
   "id": "b0de89e7-d67d-4e70-9ff3-464dd04a6eaf",
   "metadata": {},
   "outputs": [
    {
     "name": "stdout",
     "output_type": "stream",
     "text": [
      "        UnitPrice                       Description\n",
      "6391          0.0                            amazon\n",
      "6392          0.0                            amazon\n",
      "9302          0.0      ROUND CAKE TIN VINTAGE GREEN\n",
      "14335         0.0      CREAM SWEETHEART LETTER RACK\n",
      "14336         0.0  ZINC WILLIE WINKIE  CANDLE STICK\n",
      "...           ...                               ...\n",
      "524375        0.0                             found\n",
      "524474        0.0                            dotcom\n",
      "524622        0.0                            Amazon\n",
      "535325        0.0                             check\n",
      "535334        0.0                             check\n",
      "\n",
      "[541 rows x 2 columns]\n"
     ]
    }
   ],
   "source": [
    "#checking the unitPrice with 0.00 values \n",
    "Zero_price=RE_data[RE_data.UnitPrice ==0.00][['UnitPrice', 'Description']]\n",
    "print(Zero_price)"
   ]
  },
  {
   "cell_type": "code",
   "execution_count": 11,
   "id": "0c8c6a2d-5cd7-4697-8593-04dc2248cc82",
   "metadata": {},
   "outputs": [],
   "source": [
    "#droppin the records with 0.00 values\n",
    "ZERO_unit_price_index=RE_data[RE_data.UnitPrice==0.00].index\n",
    "RE_data.drop(index=ZERO_unit_price_index,inplace=True,axis=0)"
   ]
  },
  {
   "cell_type": "code",
   "execution_count": 12,
   "id": "f4d01c50-f8a4-436b-9806-fd0bdfef3d8d",
   "metadata": {},
   "outputs": [],
   "source": [
    "RE_data.dropna(subset=['CustomerID'],inplace=True)"
   ]
  },
  {
   "cell_type": "code",
   "execution_count": 13,
   "id": "f5ad5392-8bc1-42a4-91fa-939c54ab6e62",
   "metadata": {},
   "outputs": [
    {
     "data": {
      "text/plain": [
       "CustomerID\n",
       "17841.0    7842\n",
       "14911.0    5615\n",
       "14096.0    5110\n",
       "12748.0    4573\n",
       "14606.0    2700\n",
       "           ... \n",
       "18087.0       1\n",
       "13841.0       1\n",
       "17923.0       1\n",
       "17102.0       1\n",
       "18251.0       1\n",
       "Name: count, Length: 4303, dtype: int64"
      ]
     },
     "execution_count": 13,
     "metadata": {},
     "output_type": "execute_result"
    }
   ],
   "source": [
    "RE_data['CustomerID'].value_counts()"
   ]
  },
  {
   "cell_type": "code",
   "execution_count": 14,
   "id": "b37b0508-392a-4504-9046-a68b7b7be623",
   "metadata": {},
   "outputs": [
    {
     "data": {
      "text/plain": [
       "InvoiceNo      0.0\n",
       "StockCode      0.0\n",
       "Description    0.0\n",
       "Quantity       0.0\n",
       "InvoiceDate    0.0\n",
       "UnitPrice      0.0\n",
       "CustomerID     0.0\n",
       "Country        0.0\n",
       "dtype: float64"
      ]
     },
     "execution_count": 14,
     "metadata": {},
     "output_type": "execute_result"
    }
   ],
   "source": [
    "RE_data.isnull().mean()*100"
   ]
  },
  {
   "cell_type": "code",
   "execution_count": 15,
   "id": "44ba49a9-1bc9-43af-9295-e6ef4af52d51",
   "metadata": {},
   "outputs": [],
   "source": [
    "Zero_Cus_index=RE_data[RE_data.CustomerID==0].index\n",
    "RE_data.drop(index=Zero_Cus_index,inplace=True,axis=0)"
   ]
  },
  {
   "cell_type": "code",
   "execution_count": 16,
   "id": "eadbe7d0-929e-4172-afe6-a3e10fc861a5",
   "metadata": {},
   "outputs": [
    {
     "data": {
      "text/plain": [
       "3871"
      ]
     },
     "execution_count": 16,
     "metadata": {},
     "output_type": "execute_result"
    }
   ],
   "source": [
    "RE_data['Description'].nunique()"
   ]
  },
  {
   "cell_type": "code",
   "execution_count": 17,
   "id": "919cf5c1-a4b4-4db8-93e1-119af5643d0f",
   "metadata": {},
   "outputs": [
    {
     "data": {
      "text/plain": [
       "393225"
      ]
     },
     "execution_count": 17,
     "metadata": {},
     "output_type": "execute_result"
    }
   ],
   "source": [
    "RE_data['CustomerID'].count()"
   ]
  },
  {
   "cell_type": "code",
   "execution_count": 18,
   "id": "0d65ab7e-70a5-425b-8d5e-e7ef3eb2232d",
   "metadata": {},
   "outputs": [],
   "source": [
    "RE_data['Profit']=RE_data['Quantity']*RE_data['UnitPrice']"
   ]
  },
  {
   "cell_type": "code",
   "execution_count": 19,
   "id": "753946a2-5c56-4dce-8acc-d4ef035b13ad",
   "metadata": {},
   "outputs": [
    {
     "data": {
      "text/html": [
       "<div>\n",
       "<style scoped>\n",
       "    .dataframe tbody tr th:only-of-type {\n",
       "        vertical-align: middle;\n",
       "    }\n",
       "\n",
       "    .dataframe tbody tr th {\n",
       "        vertical-align: top;\n",
       "    }\n",
       "\n",
       "    .dataframe thead th {\n",
       "        text-align: right;\n",
       "    }\n",
       "</style>\n",
       "<table border=\"1\" class=\"dataframe\">\n",
       "  <thead>\n",
       "    <tr style=\"text-align: right;\">\n",
       "      <th></th>\n",
       "      <th>InvoiceNo</th>\n",
       "      <th>StockCode</th>\n",
       "      <th>Description</th>\n",
       "      <th>Quantity</th>\n",
       "      <th>InvoiceDate</th>\n",
       "      <th>UnitPrice</th>\n",
       "      <th>CustomerID</th>\n",
       "      <th>Country</th>\n",
       "      <th>Profit</th>\n",
       "    </tr>\n",
       "  </thead>\n",
       "  <tbody>\n",
       "    <tr>\n",
       "      <th>0</th>\n",
       "      <td>536365</td>\n",
       "      <td>85123A</td>\n",
       "      <td>WHITE HANGING HEART T-LIGHT HOLDER</td>\n",
       "      <td>6</td>\n",
       "      <td>2010-12-01 08:26:00</td>\n",
       "      <td>2.55</td>\n",
       "      <td>17850.0</td>\n",
       "      <td>United Kingdom</td>\n",
       "      <td>15.30</td>\n",
       "    </tr>\n",
       "    <tr>\n",
       "      <th>1</th>\n",
       "      <td>536365</td>\n",
       "      <td>71053</td>\n",
       "      <td>WHITE METAL LANTERN</td>\n",
       "      <td>6</td>\n",
       "      <td>2010-12-01 08:26:00</td>\n",
       "      <td>3.39</td>\n",
       "      <td>17850.0</td>\n",
       "      <td>United Kingdom</td>\n",
       "      <td>20.34</td>\n",
       "    </tr>\n",
       "    <tr>\n",
       "      <th>2</th>\n",
       "      <td>536365</td>\n",
       "      <td>84406B</td>\n",
       "      <td>CREAM CUPID HEARTS COAT HANGER</td>\n",
       "      <td>8</td>\n",
       "      <td>2010-12-01 08:26:00</td>\n",
       "      <td>2.75</td>\n",
       "      <td>17850.0</td>\n",
       "      <td>United Kingdom</td>\n",
       "      <td>22.00</td>\n",
       "    </tr>\n",
       "    <tr>\n",
       "      <th>3</th>\n",
       "      <td>536365</td>\n",
       "      <td>84029G</td>\n",
       "      <td>KNITTED UNION FLAG HOT WATER BOTTLE</td>\n",
       "      <td>6</td>\n",
       "      <td>2010-12-01 08:26:00</td>\n",
       "      <td>3.39</td>\n",
       "      <td>17850.0</td>\n",
       "      <td>United Kingdom</td>\n",
       "      <td>20.34</td>\n",
       "    </tr>\n",
       "    <tr>\n",
       "      <th>4</th>\n",
       "      <td>536365</td>\n",
       "      <td>84029E</td>\n",
       "      <td>RED WOOLLY HOTTIE WHITE HEART.</td>\n",
       "      <td>6</td>\n",
       "      <td>2010-12-01 08:26:00</td>\n",
       "      <td>3.39</td>\n",
       "      <td>17850.0</td>\n",
       "      <td>United Kingdom</td>\n",
       "      <td>20.34</td>\n",
       "    </tr>\n",
       "  </tbody>\n",
       "</table>\n",
       "</div>"
      ],
      "text/plain": [
       "  InvoiceNo StockCode                          Description  Quantity  \\\n",
       "0    536365    85123A   WHITE HANGING HEART T-LIGHT HOLDER         6   \n",
       "1    536365     71053                  WHITE METAL LANTERN         6   \n",
       "2    536365    84406B       CREAM CUPID HEARTS COAT HANGER         8   \n",
       "3    536365    84029G  KNITTED UNION FLAG HOT WATER BOTTLE         6   \n",
       "4    536365    84029E       RED WOOLLY HOTTIE WHITE HEART.         6   \n",
       "\n",
       "          InvoiceDate  UnitPrice  CustomerID         Country  Profit  \n",
       "0 2010-12-01 08:26:00       2.55     17850.0  United Kingdom   15.30  \n",
       "1 2010-12-01 08:26:00       3.39     17850.0  United Kingdom   20.34  \n",
       "2 2010-12-01 08:26:00       2.75     17850.0  United Kingdom   22.00  \n",
       "3 2010-12-01 08:26:00       3.39     17850.0  United Kingdom   20.34  \n",
       "4 2010-12-01 08:26:00       3.39     17850.0  United Kingdom   20.34  "
      ]
     },
     "execution_count": 19,
     "metadata": {},
     "output_type": "execute_result"
    }
   ],
   "source": [
    "RE_data.head()"
   ]
  },
  {
   "cell_type": "code",
   "execution_count": 20,
   "id": "04c21ebd-137f-4dd8-ba7e-529fab024ed5",
   "metadata": {},
   "outputs": [],
   "source": [
    "RE_data['InvoiceDate']= pd.to_datetime(RE_data['InvoiceDate'])"
   ]
  },
  {
   "cell_type": "code",
   "execution_count": 21,
   "id": "530b17ed-ab3e-4015-a0d1-1196f6361357",
   "metadata": {},
   "outputs": [
    {
     "data": {
      "text/plain": [
       "hour\n",
       "12    71333\n",
       "13    63507\n",
       "14    53727\n",
       "11    48427\n",
       "15    44877\n",
       "10    37160\n",
       "16    23844\n",
       "9     21577\n",
       "17    12981\n",
       "8      8520\n",
       "19     3281\n",
       "18     2853\n",
       "20      784\n",
       "7       353\n",
       "6         1\n",
       "Name: count, dtype: int64"
      ]
     },
     "execution_count": 21,
     "metadata": {},
     "output_type": "execute_result"
    }
   ],
   "source": [
    "RE_data['hour'] = RE_data['InvoiceDate'].apply(lambda x: x.hour)\n",
    "\n",
    "RE_data['hour'].value_counts() "
   ]
  },
  {
   "cell_type": "code",
   "execution_count": 22,
   "id": "f6145d25-2523-4ab0-b20b-9ddc5ae1e788",
   "metadata": {},
   "outputs": [
    {
     "data": {
      "image/png": "[encoded data removed]",
      "text/plain": [
       "<Figure size 1000x800 with 1 Axes>"
      ]
     },
     "metadata": {},
     "output_type": "display_data"
    }
   ],
   "source": [
    "\n",
    "plt.figure(figsize=(10,8))\n",
    "sns.histplot(RE_data['hour'], kde=False, bins=24)\n",
    "plt.xlabel(' Hours')\n",
    "plt.ylabel('Number of hours')\n",
    "plt.title('The most frequent  hours ')\n",
    "plt.show()"
   ]
  },
  {
   "cell_type": "code",
   "execution_count": 23,
   "id": "c2bfc2f5-8926-48cb-8048-45d0bd47f366",
   "metadata": {},
   "outputs": [
    {
     "data": {
      "text/plain": [
       "month\n",
       "11    64022\n",
       "10    48975\n",
       "12    42979\n",
       "9     39549\n",
       "5     27974\n",
       "3     26825\n",
       "6     26796\n",
       "8     26593\n",
       "7     26464\n",
       "4     22401\n",
       "1     20966\n",
       "2     19681\n",
       "Name: count, dtype: int64"
      ]
     },
     "execution_count": 23,
     "metadata": {},
     "output_type": "execute_result"
    }
   ],
   "source": [
    "RE_data['month'] = RE_data['InvoiceDate'].apply(lambda x: x.month)\n",
    "\n",
    "RE_data['month'].value_counts() "
   ]
  },
  {
   "cell_type": "code",
   "execution_count": 24,
   "id": "4f3aa2b1-359b-45b3-b93f-cd6883d04eff",
   "metadata": {},
   "outputs": [
    {
     "data": {
      "image/png": "[encoded data removed]",
      "text/plain": [
       "<Figure size 1000x800 with 1 Axes>"
      ]
     },
     "metadata": {},
     "output_type": "display_data"
    }
   ],
   "source": [
    "plt.figure(figsize=(10,8))\n",
    "sns.histplot(RE_data['month'], kde=False, bins=20)\n",
    "plt.xlabel('Months')\n",
    "plt.ylabel('Number of months')\n",
    "plt.title('The most frequent  months ')\n",
    "\n",
    "plt.show()"
   ]
  },
  {
   "cell_type": "code",
   "execution_count": 25,
   "id": "44e4c666-9f9d-4761-a102-f91ed8752470",
   "metadata": {},
   "outputs": [
    {
     "data": {
      "text/plain": [
       "day\n",
       "6     18199\n",
       "5     16174\n",
       "8     15753\n",
       "7     15414\n",
       "17    14714\n",
       "4     14700\n",
       "20    14441\n",
       "23    14171\n",
       "13    14035\n",
       "14    13952\n",
       "10    13932\n",
       "1     13483\n",
       "28    13304\n",
       "11    13138\n",
       "21    12899\n",
       "9     12793\n",
       "18    12684\n",
       "16    12624\n",
       "27    12350\n",
       "22    12308\n",
       "2     11969\n",
       "24    11949\n",
       "25    11916\n",
       "15    11201\n",
       "19    10682\n",
       "3     10680\n",
       "12    10442\n",
       "30     9970\n",
       "26     8609\n",
       "29     8050\n",
       "31     6689\n",
       "Name: count, dtype: int64"
      ]
     },
     "execution_count": 25,
     "metadata": {},
     "output_type": "execute_result"
    }
   ],
   "source": [
    "RE_data['day'] = RE_data['InvoiceDate'].apply(lambda x: x.day)\n",
    "\n",
    "RE_data['day'].value_counts() "
   ]
  },
  {
   "cell_type": "code",
   "execution_count": 26,
   "id": "6a7412d4-bceb-46b1-b55c-4edaef41a51f",
   "metadata": {},
   "outputs": [
    {
     "data": {
      "image/png": "[encoded data removed]",
      "text/plain": [
       "<Figure size 1000x800 with 1 Axes>"
      ]
     },
     "metadata": {},
     "output_type": "display_data"
    }
   ],
   "source": [
    "plt.figure(figsize=(10,8))\n",
    "sns.histplot(RE_data['day'], kde=False, bins=30)\n",
    "plt.xlabel('Days')\n",
    "plt.ylabel('Number of Days')\n",
    "plt.title('The most frequent  days')\n",
    "\n",
    "plt.show()"
   ]
  },
  {
   "cell_type": "code",
   "execution_count": 27,
   "id": "96027459-fac1-445a-97b1-196dc8cd87d3",
   "metadata": {},
   "outputs": [
    {
     "data": {
      "text/plain": [
       "datetime.date(2011, 12, 9)"
      ]
     },
     "execution_count": 27,
     "metadata": {},
     "output_type": "execute_result"
    }
   ],
   "source": [
    "# Maximum InvoiceDate or the latest  date.\n",
    "max_trans_date = max(RE_data['InvoiceDate']).date()\n",
    "max_trans_date\n"
   ]
  },
  {
   "cell_type": "code",
   "execution_count": 28,
   "id": "d3fc5d69-14b6-43a4-9c9a-c602ef4ba33f",
   "metadata": {},
   "outputs": [],
   "source": [
    "# Taking the last transaction date as a reference date for comparision and \n",
    "# finding the number of days between a transaction date and last transaction date to compute the recency.\n",
    "\n",
    "comparison_date= datetime.strptime(str(max_trans_date), \"%Y-%m-%d\")\n"
   ]
  },
  {
   "cell_type": "code",
   "execution_count": 29,
   "id": "f037cc3d-f7dc-4ab9-9fca-4f14372d3699",
   "metadata": {},
   "outputs": [],
   "source": [
    "# Creating a RFM table that will contain all the values for recency , frequency and Monetray data. \n",
    "\n",
    "rfm_table = RE_data.groupby(['CustomerID']).agg({'InvoiceDate': lambda date : (comparison_date - date.max()).days,\n",
    "                                                            'Quantity' : lambda Quan : len(Quan), \n",
    "                                                            'Profit' : lambda p : sum(p),\n",
    "                                                 'Country' : lambda q:q.unique()})"
   ]
  },
  {
   "cell_type": "code",
   "execution_count": 30,
   "id": "1b8505cb-ff7b-45ba-afcc-5b96eddf6282",
   "metadata": {},
   "outputs": [
    {
     "data": {
      "text/plain": [
       "Index(['InvoiceDate', 'Quantity', 'Profit', 'Country'], dtype='object')"
      ]
     },
     "execution_count": 30,
     "metadata": {},
     "output_type": "execute_result"
    }
   ],
   "source": [
    "#  Renaming of the columns to appropiate name is needed\n",
    "\n",
    "rfm_table.columns"
   ]
  },
  {
   "cell_type": "code",
   "execution_count": 31,
   "id": "28952844-456d-4042-a082-9c71c3e1e05b",
   "metadata": {},
   "outputs": [],
   "source": [
    "# Renaming column names to appropiate names\n",
    "\n",
    "rfm_table.rename(columns={'InvoiceDate' : 'Recency', \n",
    "                        'Quantity' : 'Frequency',\n",
    "                        'Profit' : 'Monetary'} , inplace=True)"
   ]
  },
  {
   "cell_type": "code",
   "execution_count": 32,
   "id": "cdf55f5f-82c1-45ec-9f0d-8b6bec8a5c71",
   "metadata": {},
   "outputs": [],
   "source": [
    "# Dividing the recency, frequency and monetary into 4 quartiles (min, 25%, 50%, 75% and max).\n",
    "# These values will help us to calculate RFM score for a customer and classify based on their RFM score.\n",
    "\n",
    "rfm_table['R_quartile'] = pd.qcut(rfm_table['Recency'], 4, ['4','3','2','1'])\n",
    "rfm_table['F_quartile'] = pd.qcut(rfm_table['Frequency'], 4, ['1','2','3','4'])\n",
    "rfm_table['M_quartile'] = pd.qcut(rfm_table['Monetary'], 4, ['1','2','3','4'])"
   ]
  },
  {
   "cell_type": "code",
   "execution_count": 33,
   "id": "de0d0b66-2c01-4bef-b83f-a43ddeea6f26",
   "metadata": {},
   "outputs": [
    {
     "data": {
      "text/html": [
       "<div>\n",
       "<style scoped>\n",
       "    .dataframe tbody tr th:only-of-type {\n",
       "        vertical-align: middle;\n",
       "    }\n",
       "\n",
       "    .dataframe tbody tr th {\n",
       "        vertical-align: top;\n",
       "    }\n",
       "\n",
       "    .dataframe thead th {\n",
       "        text-align: right;\n",
       "    }\n",
       "</style>\n",
       "<table border=\"1\" class=\"dataframe\">\n",
       "  <thead>\n",
       "    <tr style=\"text-align: right;\">\n",
       "      <th></th>\n",
       "      <th>Recency</th>\n",
       "      <th>Frequency</th>\n",
       "      <th>Monetary</th>\n",
       "      <th>Country</th>\n",
       "      <th>R_quartile</th>\n",
       "      <th>F_quartile</th>\n",
       "      <th>M_quartile</th>\n",
       "    </tr>\n",
       "    <tr>\n",
       "      <th>CustomerID</th>\n",
       "      <th></th>\n",
       "      <th></th>\n",
       "      <th></th>\n",
       "      <th></th>\n",
       "      <th></th>\n",
       "      <th></th>\n",
       "      <th></th>\n",
       "    </tr>\n",
       "  </thead>\n",
       "  <tbody>\n",
       "    <tr>\n",
       "      <th>12347.0</th>\n",
       "      <td>1</td>\n",
       "      <td>181</td>\n",
       "      <td>4060.40</td>\n",
       "      <td>[Iceland]</td>\n",
       "      <td>4</td>\n",
       "      <td>4</td>\n",
       "      <td>4</td>\n",
       "    </tr>\n",
       "    <tr>\n",
       "      <th>12348.0</th>\n",
       "      <td>74</td>\n",
       "      <td>20</td>\n",
       "      <td>1195.08</td>\n",
       "      <td>[Finland]</td>\n",
       "      <td>2</td>\n",
       "      <td>2</td>\n",
       "      <td>3</td>\n",
       "    </tr>\n",
       "    <tr>\n",
       "      <th>12349.0</th>\n",
       "      <td>17</td>\n",
       "      <td>73</td>\n",
       "      <td>1757.55</td>\n",
       "      <td>[Italy]</td>\n",
       "      <td>3</td>\n",
       "      <td>3</td>\n",
       "      <td>4</td>\n",
       "    </tr>\n",
       "    <tr>\n",
       "      <th>12350.0</th>\n",
       "      <td>309</td>\n",
       "      <td>17</td>\n",
       "      <td>334.40</td>\n",
       "      <td>[Norway]</td>\n",
       "      <td>1</td>\n",
       "      <td>1</td>\n",
       "      <td>2</td>\n",
       "    </tr>\n",
       "    <tr>\n",
       "      <th>12352.0</th>\n",
       "      <td>35</td>\n",
       "      <td>85</td>\n",
       "      <td>2506.04</td>\n",
       "      <td>[Norway]</td>\n",
       "      <td>3</td>\n",
       "      <td>3</td>\n",
       "      <td>4</td>\n",
       "    </tr>\n",
       "    <tr>\n",
       "      <th>...</th>\n",
       "      <td>...</td>\n",
       "      <td>...</td>\n",
       "      <td>...</td>\n",
       "      <td>...</td>\n",
       "      <td>...</td>\n",
       "      <td>...</td>\n",
       "      <td>...</td>\n",
       "    </tr>\n",
       "    <tr>\n",
       "      <th>18280.0</th>\n",
       "      <td>276</td>\n",
       "      <td>10</td>\n",
       "      <td>180.60</td>\n",
       "      <td>[United Kingdom]</td>\n",
       "      <td>1</td>\n",
       "      <td>1</td>\n",
       "      <td>1</td>\n",
       "    </tr>\n",
       "    <tr>\n",
       "      <th>18281.0</th>\n",
       "      <td>179</td>\n",
       "      <td>7</td>\n",
       "      <td>80.82</td>\n",
       "      <td>[United Kingdom]</td>\n",
       "      <td>1</td>\n",
       "      <td>1</td>\n",
       "      <td>1</td>\n",
       "    </tr>\n",
       "    <tr>\n",
       "      <th>18282.0</th>\n",
       "      <td>6</td>\n",
       "      <td>12</td>\n",
       "      <td>178.05</td>\n",
       "      <td>[United Kingdom]</td>\n",
       "      <td>4</td>\n",
       "      <td>1</td>\n",
       "      <td>1</td>\n",
       "    </tr>\n",
       "    <tr>\n",
       "      <th>18283.0</th>\n",
       "      <td>2</td>\n",
       "      <td>756</td>\n",
       "      <td>2094.88</td>\n",
       "      <td>[United Kingdom]</td>\n",
       "      <td>4</td>\n",
       "      <td>4</td>\n",
       "      <td>4</td>\n",
       "    </tr>\n",
       "    <tr>\n",
       "      <th>18287.0</th>\n",
       "      <td>41</td>\n",
       "      <td>70</td>\n",
       "      <td>1837.28</td>\n",
       "      <td>[United Kingdom]</td>\n",
       "      <td>3</td>\n",
       "      <td>3</td>\n",
       "      <td>4</td>\n",
       "    </tr>\n",
       "  </tbody>\n",
       "</table>\n",
       "<p>4303 rows × 7 columns</p>\n",
       "</div>"
      ],
      "text/plain": [
       "            Recency  Frequency  Monetary           Country R_quartile  \\\n",
       "CustomerID                                                              \n",
       "12347.0           1        181   4060.40         [Iceland]          4   \n",
       "12348.0          74         20   1195.08         [Finland]          2   \n",
       "12349.0          17         73   1757.55           [Italy]          3   \n",
       "12350.0         309         17    334.40          [Norway]          1   \n",
       "12352.0          35         85   2506.04          [Norway]          3   \n",
       "...             ...        ...       ...               ...        ...   \n",
       "18280.0         276         10    180.60  [United Kingdom]          1   \n",
       "18281.0         179          7     80.82  [United Kingdom]          1   \n",
       "18282.0           6         12    178.05  [United Kingdom]          4   \n",
       "18283.0           2        756   2094.88  [United Kingdom]          4   \n",
       "18287.0          41         70   1837.28  [United Kingdom]          3   \n",
       "\n",
       "           F_quartile M_quartile  \n",
       "CustomerID                        \n",
       "12347.0             4          4  \n",
       "12348.0             2          3  \n",
       "12349.0             3          4  \n",
       "12350.0             1          2  \n",
       "12352.0             3          4  \n",
       "...               ...        ...  \n",
       "18280.0             1          1  \n",
       "18281.0             1          1  \n",
       "18282.0             1          1  \n",
       "18283.0             4          4  \n",
       "18287.0             3          4  \n",
       "\n",
       "[4303 rows x 7 columns]"
      ]
     },
     "execution_count": 33,
     "metadata": {},
     "output_type": "execute_result"
    }
   ],
   "source": [
    "# RFM_table dataset\n",
    "\n",
    "rfm_table"
   ]
  },
  {
   "cell_type": "code",
   "execution_count": 34,
   "id": "a3fdfa36-43d6-4aaf-bdbe-843cc0379b1d",
   "metadata": {},
   "outputs": [],
   "source": [
    "# Caluclation of RFM Score.\n",
    "# Max weightage is given to recency then frequency and then  monetary.\n",
    "\n",
    "rfm_table['RFM_Score'] = 100*rfm_table['R_quartile'].astype(int)+10*rfm_table['F_quartile'].astype(int)+rfm_table['M_quartile'].astype(int)"
   ]
  },
  {
   "cell_type": "code",
   "execution_count": 35,
   "id": "f1d5a521-12fa-4c47-a141-f34edcd8116c",
   "metadata": {},
   "outputs": [],
   "source": [
    "#Assigning a title to a cuustomer.\n",
    "# Platinum corresponds to highest range of RFM score down to Bronze to lowest range of RFM score.\n",
    "\n",
    "rfm_table['customer_title'] = pd.qcut(rfm_table['RFM_Score'], 4, ['Bronze','Silver','Gold','Platinum'])"
   ]
  },
  {
   "cell_type": "code",
   "execution_count": 36,
   "id": "a9414702-5588-4434-b1d7-62040739f6f3",
   "metadata": {},
   "outputs": [
    {
     "data": {
      "text/html": [
       "<div>\n",
       "<style scoped>\n",
       "    .dataframe tbody tr th:only-of-type {\n",
       "        vertical-align: middle;\n",
       "    }\n",
       "\n",
       "    .dataframe tbody tr th {\n",
       "        vertical-align: top;\n",
       "    }\n",
       "\n",
       "    .dataframe thead th {\n",
       "        text-align: right;\n",
       "    }\n",
       "</style>\n",
       "<table border=\"1\" class=\"dataframe\">\n",
       "  <thead>\n",
       "    <tr style=\"text-align: right;\">\n",
       "      <th></th>\n",
       "      <th>Recency</th>\n",
       "      <th>Frequency</th>\n",
       "      <th>Monetary</th>\n",
       "      <th>Country</th>\n",
       "      <th>R_quartile</th>\n",
       "      <th>F_quartile</th>\n",
       "      <th>M_quartile</th>\n",
       "      <th>RFM_Score</th>\n",
       "      <th>customer_title</th>\n",
       "    </tr>\n",
       "    <tr>\n",
       "      <th>CustomerID</th>\n",
       "      <th></th>\n",
       "      <th></th>\n",
       "      <th></th>\n",
       "      <th></th>\n",
       "      <th></th>\n",
       "      <th></th>\n",
       "      <th></th>\n",
       "      <th></th>\n",
       "      <th></th>\n",
       "    </tr>\n",
       "  </thead>\n",
       "  <tbody>\n",
       "    <tr>\n",
       "      <th>12347.0</th>\n",
       "      <td>1</td>\n",
       "      <td>181</td>\n",
       "      <td>4060.40</td>\n",
       "      <td>[Iceland]</td>\n",
       "      <td>4</td>\n",
       "      <td>4</td>\n",
       "      <td>4</td>\n",
       "      <td>444</td>\n",
       "      <td>Platinum</td>\n",
       "    </tr>\n",
       "    <tr>\n",
       "      <th>12348.0</th>\n",
       "      <td>74</td>\n",
       "      <td>20</td>\n",
       "      <td>1195.08</td>\n",
       "      <td>[Finland]</td>\n",
       "      <td>2</td>\n",
       "      <td>2</td>\n",
       "      <td>3</td>\n",
       "      <td>223</td>\n",
       "      <td>Silver</td>\n",
       "    </tr>\n",
       "    <tr>\n",
       "      <th>12349.0</th>\n",
       "      <td>17</td>\n",
       "      <td>73</td>\n",
       "      <td>1757.55</td>\n",
       "      <td>[Italy]</td>\n",
       "      <td>3</td>\n",
       "      <td>3</td>\n",
       "      <td>4</td>\n",
       "      <td>334</td>\n",
       "      <td>Gold</td>\n",
       "    </tr>\n",
       "    <tr>\n",
       "      <th>12350.0</th>\n",
       "      <td>309</td>\n",
       "      <td>17</td>\n",
       "      <td>334.40</td>\n",
       "      <td>[Norway]</td>\n",
       "      <td>1</td>\n",
       "      <td>1</td>\n",
       "      <td>2</td>\n",
       "      <td>112</td>\n",
       "      <td>Bronze</td>\n",
       "    </tr>\n",
       "    <tr>\n",
       "      <th>12352.0</th>\n",
       "      <td>35</td>\n",
       "      <td>85</td>\n",
       "      <td>2506.04</td>\n",
       "      <td>[Norway]</td>\n",
       "      <td>3</td>\n",
       "      <td>3</td>\n",
       "      <td>4</td>\n",
       "      <td>334</td>\n",
       "      <td>Gold</td>\n",
       "    </tr>\n",
       "    <tr>\n",
       "      <th>...</th>\n",
       "      <td>...</td>\n",
       "      <td>...</td>\n",
       "      <td>...</td>\n",
       "      <td>...</td>\n",
       "      <td>...</td>\n",
       "      <td>...</td>\n",
       "      <td>...</td>\n",
       "      <td>...</td>\n",
       "      <td>...</td>\n",
       "    </tr>\n",
       "    <tr>\n",
       "      <th>18280.0</th>\n",
       "      <td>276</td>\n",
       "      <td>10</td>\n",
       "      <td>180.60</td>\n",
       "      <td>[United Kingdom]</td>\n",
       "      <td>1</td>\n",
       "      <td>1</td>\n",
       "      <td>1</td>\n",
       "      <td>111</td>\n",
       "      <td>Bronze</td>\n",
       "    </tr>\n",
       "    <tr>\n",
       "      <th>18281.0</th>\n",
       "      <td>179</td>\n",
       "      <td>7</td>\n",
       "      <td>80.82</td>\n",
       "      <td>[United Kingdom]</td>\n",
       "      <td>1</td>\n",
       "      <td>1</td>\n",
       "      <td>1</td>\n",
       "      <td>111</td>\n",
       "      <td>Bronze</td>\n",
       "    </tr>\n",
       "    <tr>\n",
       "      <th>18282.0</th>\n",
       "      <td>6</td>\n",
       "      <td>12</td>\n",
       "      <td>178.05</td>\n",
       "      <td>[United Kingdom]</td>\n",
       "      <td>4</td>\n",
       "      <td>1</td>\n",
       "      <td>1</td>\n",
       "      <td>411</td>\n",
       "      <td>Gold</td>\n",
       "    </tr>\n",
       "    <tr>\n",
       "      <th>18283.0</th>\n",
       "      <td>2</td>\n",
       "      <td>756</td>\n",
       "      <td>2094.88</td>\n",
       "      <td>[United Kingdom]</td>\n",
       "      <td>4</td>\n",
       "      <td>4</td>\n",
       "      <td>4</td>\n",
       "      <td>444</td>\n",
       "      <td>Platinum</td>\n",
       "    </tr>\n",
       "    <tr>\n",
       "      <th>18287.0</th>\n",
       "      <td>41</td>\n",
       "      <td>70</td>\n",
       "      <td>1837.28</td>\n",
       "      <td>[United Kingdom]</td>\n",
       "      <td>3</td>\n",
       "      <td>3</td>\n",
       "      <td>4</td>\n",
       "      <td>334</td>\n",
       "      <td>Gold</td>\n",
       "    </tr>\n",
       "  </tbody>\n",
       "</table>\n",
       "<p>4303 rows × 9 columns</p>\n",
       "</div>"
      ],
      "text/plain": [
       "            Recency  Frequency  Monetary           Country R_quartile  \\\n",
       "CustomerID                                                              \n",
       "12347.0           1        181   4060.40         [Iceland]          4   \n",
       "12348.0          74         20   1195.08         [Finland]          2   \n",
       "12349.0          17         73   1757.55           [Italy]          3   \n",
       "12350.0         309         17    334.40          [Norway]          1   \n",
       "12352.0          35         85   2506.04          [Norway]          3   \n",
       "...             ...        ...       ...               ...        ...   \n",
       "18280.0         276         10    180.60  [United Kingdom]          1   \n",
       "18281.0         179          7     80.82  [United Kingdom]          1   \n",
       "18282.0           6         12    178.05  [United Kingdom]          4   \n",
       "18283.0           2        756   2094.88  [United Kingdom]          4   \n",
       "18287.0          41         70   1837.28  [United Kingdom]          3   \n",
       "\n",
       "           F_quartile M_quartile  RFM_Score customer_title  \n",
       "CustomerID                                                  \n",
       "12347.0             4          4        444       Platinum  \n",
       "12348.0             2          3        223         Silver  \n",
       "12349.0             3          4        334           Gold  \n",
       "12350.0             1          2        112         Bronze  \n",
       "12352.0             3          4        334           Gold  \n",
       "...               ...        ...        ...            ...  \n",
       "18280.0             1          1        111         Bronze  \n",
       "18281.0             1          1        111         Bronze  \n",
       "18282.0             1          1        411           Gold  \n",
       "18283.0             4          4        444       Platinum  \n",
       "18287.0             3          4        334           Gold  \n",
       "\n",
       "[4303 rows x 9 columns]"
      ]
     },
     "execution_count": 36,
     "metadata": {},
     "output_type": "execute_result"
    }
   ],
   "source": [
    "rfm_table"
   ]
  },
  {
   "cell_type": "code",
   "execution_count": 37,
   "id": "541242d8-525b-42f9-9a18-c7e0c80ac9bf",
   "metadata": {},
   "outputs": [],
   "source": [
    " def cust_score_title_lkup(cols):\n",
    "    \n",
    "    RFM_Score = cols[0]\n",
    "    \n",
    "    if RFM_Score >= 444:\n",
    "        return 'Platinum Customer'\n",
    "    elif RFM_Score >=433 and RFM_Score < 444:\n",
    "        return 'Very Loyal'\n",
    "    elif RFM_Score >=421 and RFM_Score < 433:\n",
    "        return 'Becoming Loyal'\n",
    "    elif RFM_Score >=344 and RFM_Score < 421:\n",
    "        return 'Recent Customer'\n",
    "    elif RFM_Score >=323 and RFM_Score < 344:\n",
    "        return 'Potential Customer'\n",
    "    elif RFM_Score >=311 and RFM_Score < 323:\n",
    "        return 'Late Bloomer'\n",
    "    elif RFM_Score >=224 and RFM_Score < 311:\n",
    "        return 'Loosing Customer'\n",
    "    elif RFM_Score >=212 and RFM_Score < 224:\n",
    "        return 'High Risk Customer'\n",
    "    elif RFM_Score >=124 and RFM_Score < 212:\n",
    "        return 'Almost Lost Customer'\n",
    "    elif RFM_Score >=112 and RFM_Score< 124:\n",
    "        return 'Evasive Customer'\n",
    "    else :\n",
    "        return 'Lost Customer'"
   ]
  },
  {
   "cell_type": "code",
   "execution_count": 38,
   "id": "ac29fe56-0d4b-4b93-8d40-fe1f5f538fa3",
   "metadata": {},
   "outputs": [
    {
     "name": "stderr",
     "output_type": "stream",
     "text": [
      "C:\\Users\\ASUS\\AppData\\Local\\Temp\\ipykernel_14304\\2135277226.py:3: FutureWarning: Series.__getitem__ treating keys as positions is deprecated. In a future version, integer keys will always be treated as labels (consistent with DataFrame behavior). To access a value by position, use `ser.iloc[pos]`\n",
      "  RFM_Score = cols[0]\n"
     ]
    }
   ],
   "source": [
    "# Applying the above functions and creating a new feature detail_cust_title\n",
    "\n",
    "rfm_table['detail_cust_title']=rfm_table[['RFM_Score']].apply(cust_score_title_lkup, axis=1)"
   ]
  },
  {
   "cell_type": "code",
   "execution_count": 39,
   "id": "8dac547a-2302-4f38-9f4c-6bbd84b0b9e2",
   "metadata": {},
   "outputs": [],
   "source": [
    "# Function to provide ranks to the customers based on their title.\n",
    "\n",
    "def get_rank(cols):\n",
    "    \n",
    "    title = cols[0]\n",
    "    \n",
    "    if title=='Platinum Customer':\n",
    "        return 1\n",
    "    elif title=='Very Loyal':\n",
    "        return 2\n",
    "    elif title == 'Becoming Loyal':\n",
    "        return 3\n",
    "    elif title == 'Recent Customer':\n",
    "        return 4\n",
    "    elif title=='Potential Customer':\n",
    "        return 5\n",
    "    elif title == 'Late Bloomer':\n",
    "        return 6\n",
    "    elif title == 'Loosing Customer':\n",
    "        return 7\n",
    "    elif title=='High Risk Customer':\n",
    "        return 8\n",
    "    elif title == 'Almost Lost Customer':\n",
    "        return 9\n",
    "    elif title == 'Evasive Customer':\n",
    "        return 10\n",
    "    else :\n",
    "        return 11"
   ]
  },
  {
   "cell_type": "code",
   "execution_count": 40,
   "id": "dae4b475-a82b-4237-a22e-12628683b02c",
   "metadata": {},
   "outputs": [
    {
     "name": "stderr",
     "output_type": "stream",
     "text": [
      "C:\\Users\\ASUS\\AppData\\Local\\Temp\\ipykernel_14304\\782112168.py:5: FutureWarning: Series.__getitem__ treating keys as positions is deprecated. In a future version, integer keys will always be treated as labels (consistent with DataFrame behavior). To access a value by position, use `ser.iloc[pos]`\n",
      "  title = cols[0]\n"
     ]
    }
   ],
   "source": [
    "# Applying the above functions and creating a new feature rank\n",
    "\n",
    "rfm_table['rank']=rfm_table[['detail_cust_title']].apply(get_rank, axis=1)"
   ]
  },
  {
   "cell_type": "code",
   "execution_count": 41,
   "id": "1f4ca1de-b0f9-4e10-9402-d4d8bd74157e",
   "metadata": {},
   "outputs": [
    {
     "data": {
      "text/plain": [
       "<Figure size 800x700 with 0 Axes>"
      ]
     },
     "metadata": {},
     "output_type": "display_data"
    },
    {
     "data": {
      "image/png": "[encoded data removed]",
      "text/plain": [
       "<Figure size 640x480 with 1 Axes>"
      ]
     },
     "metadata": {},
     "output_type": "display_data"
    }
   ],
   "source": [
    "plt.figure(figsize=(8,7))\n",
    "rfm_table.plot.scatter(x='Frequency' , y='Monetary')\n",
    "plt.xlabel('Frequency')\n",
    "plt.ylabel('Monetary ($)')\n",
    "plt.title('Frequency vs Monetary')\n",
    "plt.show()"
   ]
  },
  {
   "cell_type": "code",
   "execution_count": 42,
   "id": "3243f3c5-030d-4f10-9ec2-61c4ce02a7fc",
   "metadata": {},
   "outputs": [
    {
     "data": {
      "text/plain": [
       "<Figure size 800x700 with 0 Axes>"
      ]
     },
     "metadata": {},
     "output_type": "display_data"
    },
    {
     "data": {
      "image/png": "[encoded data removed]",
      "text/plain": [
       "<Figure size 640x480 with 1 Axes>"
      ]
     },
     "metadata": {},
     "output_type": "display_data"
    }
   ],
   "source": [
    " plt.figure(figsize=(8,7))\n",
    "rfm_table.plot.scatter(x='Recency' , y='Monetary')\n",
    "plt.xlabel('Recency')\n",
    "plt.ylabel('Monetary ($)')\n",
    "plt.title('Recency vs Monetary')\n",
    "plt.show()"
   ]
  },
  {
   "cell_type": "code",
   "execution_count": 43,
   "id": "bf310b69-6e7a-4aa9-a59b-9fddb6b56475",
   "metadata": {},
   "outputs": [
    {
     "data": {
      "text/html": [
       "<div>\n",
       "<style scoped>\n",
       "    .dataframe tbody tr th:only-of-type {\n",
       "        vertical-align: middle;\n",
       "    }\n",
       "\n",
       "    .dataframe tbody tr th {\n",
       "        vertical-align: top;\n",
       "    }\n",
       "\n",
       "    .dataframe thead th {\n",
       "        text-align: right;\n",
       "    }\n",
       "</style>\n",
       "<table border=\"1\" class=\"dataframe\">\n",
       "  <thead>\n",
       "    <tr style=\"text-align: right;\">\n",
       "      <th></th>\n",
       "      <th>Recency</th>\n",
       "      <th>Frequency</th>\n",
       "      <th>Monetary</th>\n",
       "      <th>Country</th>\n",
       "      <th>R_quartile</th>\n",
       "      <th>F_quartile</th>\n",
       "      <th>M_quartile</th>\n",
       "      <th>RFM_Score</th>\n",
       "      <th>customer_title</th>\n",
       "      <th>detail_cust_title</th>\n",
       "      <th>rank</th>\n",
       "    </tr>\n",
       "    <tr>\n",
       "      <th>CustomerID</th>\n",
       "      <th></th>\n",
       "      <th></th>\n",
       "      <th></th>\n",
       "      <th></th>\n",
       "      <th></th>\n",
       "      <th></th>\n",
       "      <th></th>\n",
       "      <th></th>\n",
       "      <th></th>\n",
       "      <th></th>\n",
       "      <th></th>\n",
       "    </tr>\n",
       "  </thead>\n",
       "  <tbody>\n",
       "    <tr>\n",
       "      <th>12347.0</th>\n",
       "      <td>1</td>\n",
       "      <td>181</td>\n",
       "      <td>4060.40</td>\n",
       "      <td>[Iceland]</td>\n",
       "      <td>4</td>\n",
       "      <td>4</td>\n",
       "      <td>4</td>\n",
       "      <td>444</td>\n",
       "      <td>Platinum</td>\n",
       "      <td>Platinum Customer</td>\n",
       "      <td>1</td>\n",
       "    </tr>\n",
       "    <tr>\n",
       "      <th>12348.0</th>\n",
       "      <td>74</td>\n",
       "      <td>20</td>\n",
       "      <td>1195.08</td>\n",
       "      <td>[Finland]</td>\n",
       "      <td>2</td>\n",
       "      <td>2</td>\n",
       "      <td>3</td>\n",
       "      <td>223</td>\n",
       "      <td>Silver</td>\n",
       "      <td>High Risk Customer</td>\n",
       "      <td>8</td>\n",
       "    </tr>\n",
       "    <tr>\n",
       "      <th>12349.0</th>\n",
       "      <td>17</td>\n",
       "      <td>73</td>\n",
       "      <td>1757.55</td>\n",
       "      <td>[Italy]</td>\n",
       "      <td>3</td>\n",
       "      <td>3</td>\n",
       "      <td>4</td>\n",
       "      <td>334</td>\n",
       "      <td>Gold</td>\n",
       "      <td>Potential Customer</td>\n",
       "      <td>5</td>\n",
       "    </tr>\n",
       "    <tr>\n",
       "      <th>12350.0</th>\n",
       "      <td>309</td>\n",
       "      <td>17</td>\n",
       "      <td>334.40</td>\n",
       "      <td>[Norway]</td>\n",
       "      <td>1</td>\n",
       "      <td>1</td>\n",
       "      <td>2</td>\n",
       "      <td>112</td>\n",
       "      <td>Bronze</td>\n",
       "      <td>Evasive Customer</td>\n",
       "      <td>10</td>\n",
       "    </tr>\n",
       "    <tr>\n",
       "      <th>12352.0</th>\n",
       "      <td>35</td>\n",
       "      <td>85</td>\n",
       "      <td>2506.04</td>\n",
       "      <td>[Norway]</td>\n",
       "      <td>3</td>\n",
       "      <td>3</td>\n",
       "      <td>4</td>\n",
       "      <td>334</td>\n",
       "      <td>Gold</td>\n",
       "      <td>Potential Customer</td>\n",
       "      <td>5</td>\n",
       "    </tr>\n",
       "    <tr>\n",
       "      <th>...</th>\n",
       "      <td>...</td>\n",
       "      <td>...</td>\n",
       "      <td>...</td>\n",
       "      <td>...</td>\n",
       "      <td>...</td>\n",
       "      <td>...</td>\n",
       "      <td>...</td>\n",
       "      <td>...</td>\n",
       "      <td>...</td>\n",
       "      <td>...</td>\n",
       "      <td>...</td>\n",
       "    </tr>\n",
       "    <tr>\n",
       "      <th>18280.0</th>\n",
       "      <td>276</td>\n",
       "      <td>10</td>\n",
       "      <td>180.60</td>\n",
       "      <td>[United Kingdom]</td>\n",
       "      <td>1</td>\n",
       "      <td>1</td>\n",
       "      <td>1</td>\n",
       "      <td>111</td>\n",
       "      <td>Bronze</td>\n",
       "      <td>Lost Customer</td>\n",
       "      <td>11</td>\n",
       "    </tr>\n",
       "    <tr>\n",
       "      <th>18281.0</th>\n",
       "      <td>179</td>\n",
       "      <td>7</td>\n",
       "      <td>80.82</td>\n",
       "      <td>[United Kingdom]</td>\n",
       "      <td>1</td>\n",
       "      <td>1</td>\n",
       "      <td>1</td>\n",
       "      <td>111</td>\n",
       "      <td>Bronze</td>\n",
       "      <td>Lost Customer</td>\n",
       "      <td>11</td>\n",
       "    </tr>\n",
       "    <tr>\n",
       "      <th>18282.0</th>\n",
       "      <td>6</td>\n",
       "      <td>12</td>\n",
       "      <td>178.05</td>\n",
       "      <td>[United Kingdom]</td>\n",
       "      <td>4</td>\n",
       "      <td>1</td>\n",
       "      <td>1</td>\n",
       "      <td>411</td>\n",
       "      <td>Gold</td>\n",
       "      <td>Recent Customer</td>\n",
       "      <td>4</td>\n",
       "    </tr>\n",
       "    <tr>\n",
       "      <th>18283.0</th>\n",
       "      <td>2</td>\n",
       "      <td>756</td>\n",
       "      <td>2094.88</td>\n",
       "      <td>[United Kingdom]</td>\n",
       "      <td>4</td>\n",
       "      <td>4</td>\n",
       "      <td>4</td>\n",
       "      <td>444</td>\n",
       "      <td>Platinum</td>\n",
       "      <td>Platinum Customer</td>\n",
       "      <td>1</td>\n",
       "    </tr>\n",
       "    <tr>\n",
       "      <th>18287.0</th>\n",
       "      <td>41</td>\n",
       "      <td>70</td>\n",
       "      <td>1837.28</td>\n",
       "      <td>[United Kingdom]</td>\n",
       "      <td>3</td>\n",
       "      <td>3</td>\n",
       "      <td>4</td>\n",
       "      <td>334</td>\n",
       "      <td>Gold</td>\n",
       "      <td>Potential Customer</td>\n",
       "      <td>5</td>\n",
       "    </tr>\n",
       "  </tbody>\n",
       "</table>\n",
       "<p>4303 rows × 11 columns</p>\n",
       "</div>"
      ],
      "text/plain": [
       "            Recency  Frequency  Monetary           Country R_quartile  \\\n",
       "CustomerID                                                              \n",
       "12347.0           1        181   4060.40         [Iceland]          4   \n",
       "12348.0          74         20   1195.08         [Finland]          2   \n",
       "12349.0          17         73   1757.55           [Italy]          3   \n",
       "12350.0         309         17    334.40          [Norway]          1   \n",
       "12352.0          35         85   2506.04          [Norway]          3   \n",
       "...             ...        ...       ...               ...        ...   \n",
       "18280.0         276         10    180.60  [United Kingdom]          1   \n",
       "18281.0         179          7     80.82  [United Kingdom]          1   \n",
       "18282.0           6         12    178.05  [United Kingdom]          4   \n",
       "18283.0           2        756   2094.88  [United Kingdom]          4   \n",
       "18287.0          41         70   1837.28  [United Kingdom]          3   \n",
       "\n",
       "           F_quartile M_quartile  RFM_Score customer_title  \\\n",
       "CustomerID                                                   \n",
       "12347.0             4          4        444       Platinum   \n",
       "12348.0             2          3        223         Silver   \n",
       "12349.0             3          4        334           Gold   \n",
       "12350.0             1          2        112         Bronze   \n",
       "12352.0             3          4        334           Gold   \n",
       "...               ...        ...        ...            ...   \n",
       "18280.0             1          1        111         Bronze   \n",
       "18281.0             1          1        111         Bronze   \n",
       "18282.0             1          1        411           Gold   \n",
       "18283.0             4          4        444       Platinum   \n",
       "18287.0             3          4        334           Gold   \n",
       "\n",
       "             detail_cust_title  rank  \n",
       "CustomerID                            \n",
       "12347.0      Platinum Customer     1  \n",
       "12348.0     High Risk Customer     8  \n",
       "12349.0     Potential Customer     5  \n",
       "12350.0       Evasive Customer    10  \n",
       "12352.0     Potential Customer     5  \n",
       "...                        ...   ...  \n",
       "18280.0          Lost Customer    11  \n",
       "18281.0          Lost Customer    11  \n",
       "18282.0        Recent Customer     4  \n",
       "18283.0      Platinum Customer     1  \n",
       "18287.0     Potential Customer     5  \n",
       "\n",
       "[4303 rows x 11 columns]"
      ]
     },
     "execution_count": 43,
     "metadata": {},
     "output_type": "execute_result"
    }
   ],
   "source": [
    "rfm_table"
   ]
  },
  {
   "cell_type": "code",
   "execution_count": 44,
   "id": "db597e8d-de9e-4173-8928-cfc31f5d6c3f",
   "metadata": {},
   "outputs": [
    {
     "data": {
      "text/html": [
       "<div>\n",
       "<style scoped>\n",
       "    .dataframe tbody tr th:only-of-type {\n",
       "        vertical-align: middle;\n",
       "    }\n",
       "\n",
       "    .dataframe tbody tr th {\n",
       "        vertical-align: top;\n",
       "    }\n",
       "\n",
       "    .dataframe thead th {\n",
       "        text-align: right;\n",
       "    }\n",
       "</style>\n",
       "<table border=\"1\" class=\"dataframe\">\n",
       "  <thead>\n",
       "    <tr style=\"text-align: right;\">\n",
       "      <th></th>\n",
       "      <th>CustomerID</th>\n",
       "      <th>Recency</th>\n",
       "      <th>Frequency</th>\n",
       "      <th>Monetary</th>\n",
       "      <th>Country</th>\n",
       "      <th>R_quartile</th>\n",
       "      <th>F_quartile</th>\n",
       "      <th>M_quartile</th>\n",
       "      <th>RFM_Score</th>\n",
       "      <th>customer_title</th>\n",
       "      <th>detail_cust_title</th>\n",
       "      <th>rank</th>\n",
       "    </tr>\n",
       "  </thead>\n",
       "  <tbody>\n",
       "    <tr>\n",
       "      <th>0</th>\n",
       "      <td>12347.0</td>\n",
       "      <td>1</td>\n",
       "      <td>181</td>\n",
       "      <td>4060.40</td>\n",
       "      <td>[Iceland]</td>\n",
       "      <td>4</td>\n",
       "      <td>4</td>\n",
       "      <td>4</td>\n",
       "      <td>444</td>\n",
       "      <td>Platinum</td>\n",
       "      <td>Platinum Customer</td>\n",
       "      <td>1</td>\n",
       "    </tr>\n",
       "    <tr>\n",
       "      <th>1</th>\n",
       "      <td>12348.0</td>\n",
       "      <td>74</td>\n",
       "      <td>20</td>\n",
       "      <td>1195.08</td>\n",
       "      <td>[Finland]</td>\n",
       "      <td>2</td>\n",
       "      <td>2</td>\n",
       "      <td>3</td>\n",
       "      <td>223</td>\n",
       "      <td>Silver</td>\n",
       "      <td>High Risk Customer</td>\n",
       "      <td>8</td>\n",
       "    </tr>\n",
       "    <tr>\n",
       "      <th>2</th>\n",
       "      <td>12349.0</td>\n",
       "      <td>17</td>\n",
       "      <td>73</td>\n",
       "      <td>1757.55</td>\n",
       "      <td>[Italy]</td>\n",
       "      <td>3</td>\n",
       "      <td>3</td>\n",
       "      <td>4</td>\n",
       "      <td>334</td>\n",
       "      <td>Gold</td>\n",
       "      <td>Potential Customer</td>\n",
       "      <td>5</td>\n",
       "    </tr>\n",
       "    <tr>\n",
       "      <th>3</th>\n",
       "      <td>12350.0</td>\n",
       "      <td>309</td>\n",
       "      <td>17</td>\n",
       "      <td>334.40</td>\n",
       "      <td>[Norway]</td>\n",
       "      <td>1</td>\n",
       "      <td>1</td>\n",
       "      <td>2</td>\n",
       "      <td>112</td>\n",
       "      <td>Bronze</td>\n",
       "      <td>Evasive Customer</td>\n",
       "      <td>10</td>\n",
       "    </tr>\n",
       "    <tr>\n",
       "      <th>4</th>\n",
       "      <td>12352.0</td>\n",
       "      <td>35</td>\n",
       "      <td>85</td>\n",
       "      <td>2506.04</td>\n",
       "      <td>[Norway]</td>\n",
       "      <td>3</td>\n",
       "      <td>3</td>\n",
       "      <td>4</td>\n",
       "      <td>334</td>\n",
       "      <td>Gold</td>\n",
       "      <td>Potential Customer</td>\n",
       "      <td>5</td>\n",
       "    </tr>\n",
       "    <tr>\n",
       "      <th>...</th>\n",
       "      <td>...</td>\n",
       "      <td>...</td>\n",
       "      <td>...</td>\n",
       "      <td>...</td>\n",
       "      <td>...</td>\n",
       "      <td>...</td>\n",
       "      <td>...</td>\n",
       "      <td>...</td>\n",
       "      <td>...</td>\n",
       "      <td>...</td>\n",
       "      <td>...</td>\n",
       "      <td>...</td>\n",
       "    </tr>\n",
       "    <tr>\n",
       "      <th>4298</th>\n",
       "      <td>18280.0</td>\n",
       "      <td>276</td>\n",
       "      <td>10</td>\n",
       "      <td>180.60</td>\n",
       "      <td>[United Kingdom]</td>\n",
       "      <td>1</td>\n",
       "      <td>1</td>\n",
       "      <td>1</td>\n",
       "      <td>111</td>\n",
       "      <td>Bronze</td>\n",
       "      <td>Lost Customer</td>\n",
       "      <td>11</td>\n",
       "    </tr>\n",
       "    <tr>\n",
       "      <th>4299</th>\n",
       "      <td>18281.0</td>\n",
       "      <td>179</td>\n",
       "      <td>7</td>\n",
       "      <td>80.82</td>\n",
       "      <td>[United Kingdom]</td>\n",
       "      <td>1</td>\n",
       "      <td>1</td>\n",
       "      <td>1</td>\n",
       "      <td>111</td>\n",
       "      <td>Bronze</td>\n",
       "      <td>Lost Customer</td>\n",
       "      <td>11</td>\n",
       "    </tr>\n",
       "    <tr>\n",
       "      <th>4300</th>\n",
       "      <td>18282.0</td>\n",
       "      <td>6</td>\n",
       "      <td>12</td>\n",
       "      <td>178.05</td>\n",
       "      <td>[United Kingdom]</td>\n",
       "      <td>4</td>\n",
       "      <td>1</td>\n",
       "      <td>1</td>\n",
       "      <td>411</td>\n",
       "      <td>Gold</td>\n",
       "      <td>Recent Customer</td>\n",
       "      <td>4</td>\n",
       "    </tr>\n",
       "    <tr>\n",
       "      <th>4301</th>\n",
       "      <td>18283.0</td>\n",
       "      <td>2</td>\n",
       "      <td>756</td>\n",
       "      <td>2094.88</td>\n",
       "      <td>[United Kingdom]</td>\n",
       "      <td>4</td>\n",
       "      <td>4</td>\n",
       "      <td>4</td>\n",
       "      <td>444</td>\n",
       "      <td>Platinum</td>\n",
       "      <td>Platinum Customer</td>\n",
       "      <td>1</td>\n",
       "    </tr>\n",
       "    <tr>\n",
       "      <th>4302</th>\n",
       "      <td>18287.0</td>\n",
       "      <td>41</td>\n",
       "      <td>70</td>\n",
       "      <td>1837.28</td>\n",
       "      <td>[United Kingdom]</td>\n",
       "      <td>3</td>\n",
       "      <td>3</td>\n",
       "      <td>4</td>\n",
       "      <td>334</td>\n",
       "      <td>Gold</td>\n",
       "      <td>Potential Customer</td>\n",
       "      <td>5</td>\n",
       "    </tr>\n",
       "  </tbody>\n",
       "</table>\n",
       "<p>4303 rows × 12 columns</p>\n",
       "</div>"
      ],
      "text/plain": [
       "      CustomerID  Recency  Frequency  Monetary           Country R_quartile  \\\n",
       "0        12347.0        1        181   4060.40         [Iceland]          4   \n",
       "1        12348.0       74         20   1195.08         [Finland]          2   \n",
       "2        12349.0       17         73   1757.55           [Italy]          3   \n",
       "3        12350.0      309         17    334.40          [Norway]          1   \n",
       "4        12352.0       35         85   2506.04          [Norway]          3   \n",
       "...          ...      ...        ...       ...               ...        ...   \n",
       "4298     18280.0      276         10    180.60  [United Kingdom]          1   \n",
       "4299     18281.0      179          7     80.82  [United Kingdom]          1   \n",
       "4300     18282.0        6         12    178.05  [United Kingdom]          4   \n",
       "4301     18283.0        2        756   2094.88  [United Kingdom]          4   \n",
       "4302     18287.0       41         70   1837.28  [United Kingdom]          3   \n",
       "\n",
       "     F_quartile M_quartile  RFM_Score customer_title   detail_cust_title  rank  \n",
       "0             4          4        444       Platinum   Platinum Customer     1  \n",
       "1             2          3        223         Silver  High Risk Customer     8  \n",
       "2             3          4        334           Gold  Potential Customer     5  \n",
       "3             1          2        112         Bronze    Evasive Customer    10  \n",
       "4             3          4        334           Gold  Potential Customer     5  \n",
       "...         ...        ...        ...            ...                 ...   ...  \n",
       "4298          1          1        111         Bronze       Lost Customer    11  \n",
       "4299          1          1        111         Bronze       Lost Customer    11  \n",
       "4300          1          1        411           Gold     Recent Customer     4  \n",
       "4301          4          4        444       Platinum   Platinum Customer     1  \n",
       "4302          3          4        334           Gold  Potential Customer     5  \n",
       "\n",
       "[4303 rows x 12 columns]"
      ]
     },
     "execution_count": 44,
     "metadata": {},
     "output_type": "execute_result"
    }
   ],
   "source": [
    "rfm_table = rfm_table.reset_index().rename(columns={\"index\":\"CustomerID\"})\t\t\n",
    "rfm_table"
   ]
  },
  {
   "cell_type": "code",
   "execution_count": 45,
   "id": "3352e326-1113-4f59-8174-3f2516fd0d7a",
   "metadata": {},
   "outputs": [
    {
     "data": {
      "text/html": [
       "<div>\n",
       "<style scoped>\n",
       "    .dataframe tbody tr th:only-of-type {\n",
       "        vertical-align: middle;\n",
       "    }\n",
       "\n",
       "    .dataframe tbody tr th {\n",
       "        vertical-align: top;\n",
       "    }\n",
       "\n",
       "    .dataframe thead th {\n",
       "        text-align: right;\n",
       "    }\n",
       "</style>\n",
       "<table border=\"1\" class=\"dataframe\">\n",
       "  <thead>\n",
       "    <tr style=\"text-align: right;\">\n",
       "      <th></th>\n",
       "      <th>detail_cust_title</th>\n",
       "      <th>rank</th>\n",
       "      <th>Number of Customers</th>\n",
       "    </tr>\n",
       "  </thead>\n",
       "  <tbody>\n",
       "    <tr>\n",
       "      <th>7</th>\n",
       "      <td>Platinum Customer</td>\n",
       "      <td>1</td>\n",
       "      <td>441</td>\n",
       "    </tr>\n",
       "    <tr>\n",
       "      <th>10</th>\n",
       "      <td>Very Loyal</td>\n",
       "      <td>2</td>\n",
       "      <td>331</td>\n",
       "    </tr>\n",
       "    <tr>\n",
       "      <th>1</th>\n",
       "      <td>Becoming Loyal</td>\n",
       "      <td>3</td>\n",
       "      <td>217</td>\n",
       "    </tr>\n",
       "    <tr>\n",
       "      <th>9</th>\n",
       "      <td>Recent Customer</td>\n",
       "      <td>4</td>\n",
       "      <td>329</td>\n",
       "    </tr>\n",
       "    <tr>\n",
       "      <th>8</th>\n",
       "      <td>Potential Customer</td>\n",
       "      <td>5</td>\n",
       "      <td>488</td>\n",
       "    </tr>\n",
       "    <tr>\n",
       "      <th>4</th>\n",
       "      <td>Late Bloomer</td>\n",
       "      <td>6</td>\n",
       "      <td>351</td>\n",
       "    </tr>\n",
       "    <tr>\n",
       "      <th>5</th>\n",
       "      <td>Loosing Customer</td>\n",
       "      <td>7</td>\n",
       "      <td>469</td>\n",
       "    </tr>\n",
       "    <tr>\n",
       "      <th>3</th>\n",
       "      <td>High Risk Customer</td>\n",
       "      <td>8</td>\n",
       "      <td>420</td>\n",
       "    </tr>\n",
       "    <tr>\n",
       "      <th>0</th>\n",
       "      <td>Almost Lost Customer</td>\n",
       "      <td>9</td>\n",
       "      <td>404</td>\n",
       "    </tr>\n",
       "    <tr>\n",
       "      <th>2</th>\n",
       "      <td>Evasive Customer</td>\n",
       "      <td>10</td>\n",
       "      <td>464</td>\n",
       "    </tr>\n",
       "    <tr>\n",
       "      <th>6</th>\n",
       "      <td>Lost Customer</td>\n",
       "      <td>11</td>\n",
       "      <td>389</td>\n",
       "    </tr>\n",
       "  </tbody>\n",
       "</table>\n",
       "</div>"
      ],
      "text/plain": [
       "       detail_cust_title  rank  Number of Customers\n",
       "7      Platinum Customer     1                  441\n",
       "10            Very Loyal     2                  331\n",
       "1         Becoming Loyal     3                  217\n",
       "9        Recent Customer     4                  329\n",
       "8     Potential Customer     5                  488\n",
       "4           Late Bloomer     6                  351\n",
       "5       Loosing Customer     7                  469\n",
       "3     High Risk Customer     8                  420\n",
       "0   Almost Lost Customer     9                  404\n",
       "2       Evasive Customer    10                  464\n",
       "6          Lost Customer    11                  389"
      ]
     },
     "execution_count": 45,
     "metadata": {},
     "output_type": "execute_result"
    }
   ],
   "source": [
    "# Calculating the number of unique customers under a customer title.\n",
    "\n",
    "cust_per_title = rfm_table[['detail_cust_title','CustomerID','rank']].drop_duplicates().groupby(\n",
    "    ['detail_cust_title','rank']).size().reset_index().sort_values('rank')\n",
    "cust_per_title.rename(columns={0:'Number of Customers'}, inplace=True)\n",
    "cust_per_title"
   ]
  },
  {
   "cell_type": "code",
   "execution_count": 46,
   "id": "4bd7d15f-f58f-4344-8283-791b778356ee",
   "metadata": {},
   "outputs": [
    {
     "data": {
      "image/png": "[encoded data removed]",
      "text/plain": [
       "<Figure size 1500x800 with 1 Axes>"
      ]
     },
     "metadata": {},
     "output_type": "display_data"
    }
   ],
   "source": [
    "# Plotting the Number of Customers\n",
    "plt.figure(figsize=(15,8))\n",
    "sns.barplot(y='detail_cust_title' , x='Number of Customers',color='#6495ED' ,data=cust_per_title)\n",
    "plt.xlabel('Number of Customers')\n",
    "plt.ylabel('Customer Segment')\n",
    "plt.title('Number of Customers by Customer Segment')\n",
    "plt.show()"
   ]
  },
  {
   "cell_type": "code",
   "execution_count": 42,
   "id": "7bb39a83-b706-4b65-9203-ccf631e42cca",
   "metadata": {},
   "outputs": [
    {
     "data": {
      "text/plain": [
       "<Axes: ylabel='Description'>"
      ]
     },
     "execution_count": 42,
     "metadata": {},
     "output_type": "execute_result"
    },
    {
     "data": {
      "image/png": "[encoded data removed]",
      "text/plain": [
       "<Figure size 640x480 with 1 Axes>"
      ]
     },
     "metadata": {},
     "output_type": "display_data"
    }
   ],
   "source": [
    " RE_data['Description'].value_counts().nlargest(20).plot(kind='barh',color='#6495ED')"
   ]
  },
  {
   "cell_type": "code",
   "execution_count": null,
   "id": "eddb2fc5-b2b0-4b82-acce-6aa22a82c20a",
   "metadata": {},
   "outputs": [],
   "source": []
  }
 ],
 "metadata": {
  "kernelspec": {
   "display_name": "Python 3 (ipykernel)",
   "language": "python",
   "name": "python3"
  },
  "language_info": {
   "codemirror_mode": {
    "name": "ipython",
    "version": 3
   },
   "file_extension": ".py",
   "mimetype": "text/x-python",
   "name": "python",
   "nbconvert_exporter": "python",
   "pygments_lexer": "ipython3",
   "version": "3.12.0"
  }
 },
 "nbformat": 4,
 "nbformat_minor": 5
}
